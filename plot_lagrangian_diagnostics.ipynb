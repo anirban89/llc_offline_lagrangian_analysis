{
 "cells": [
  {
   "cell_type": "code",
   "execution_count": 1,
   "metadata": {
    "collapsed": false,
    "slideshow": {
     "slide_type": "slide"
    }
   },
   "outputs": [],
   "source": [
    "import numpy as np\n",
    "import matplotlib.pyplot as plt\n",
    "%matplotlib inline\n",
    "\n",
    "import os\n",
    "import sys\n",
    "\n",
    "\n",
    "import bcolz\n",
    "import pandas as pd\n",
    "import xarray as xr\n",
    "\n",
    "from floater.generators import FloatSet\n",
    "from floater import hexgrid\n",
    "from helper import bcolz_to_array, dataseries_to_array, region_to_json\n",
    "from tools_lagrangian import rel_disp, calc_l1_l2, calc_flow_map, latlon_2_xy, ddt\n",
    "\n",
    "from matplotlib.colors import LogNorm"
   ]
  },
  {
   "cell_type": "markdown",
   "metadata": {
    "collapsed": false,
    "slideshow": {
     "slide_type": "slide"
    }
   },
   "source": [
    "# Lagrangian Diagnostics from llc_offline#\n",
    "\n",
    "The four key diagnostics used are \n",
    "\n",
    "1. Finite time Lyapunov exponents\n",
    "2. The Histogram of FTLE\n",
    "3. Timeseries of Relative Dispersion/Diffusivity\n",
    "4. PDF of Dispersion\n",
    "\n",
    "The methods used to identify these diagnostics are illustrated below\n",
    "\n",
    "## Finite time Lyapunov exponents (FTLEs)##\n",
    "\n",
    "From the flow map $\\mathbf{F}$ we calculate the Jacobian as $\\nabla \\mathbf{F}$. Then the left Cauchy-Green stress tensor C is calculated as \n",
    "\n",
    "$$C = {\\nabla \\mathbf{F}}^T \\nabla \\mathbf{F}$$\n",
    "\n",
    "But for us, since we are dealing with a hexagonal grid we also require a Jacobian Transformation matrix $J_T$ s.t.\n",
    "\n",
    "$$\\nabla \\mathbf{F} =  {\\nabla \\mathbf{F}}_{hex} \\mathbf{J_T}$$\n",
    "\n",
    "where ${\\nabla \\mathbf{F}}_{hex}$ is a $2 \\times 3$ matrix and $J_T$ is a $3 \\times 2$ matrix, which gives us the effective $\\nabla \\mathbf{F}$ as a $2 \\times 2$ matrix, which is what we require. \n",
    "As a result we rewrite our left C-G tensor as\n",
    "\n",
    "$$C = {\\nabla \\mathbf{F}}^T \\cdot \\nabla \\mathbf{F} = {{\\nabla \\mathbf{F}}_{hex} \\mathbf{J_T}}^T \\cdot {\\nabla \\mathbf{F}}_{hex} \\mathbf{J_T} ={\\mathbf{J_T}}^T {{\\nabla \\mathbf{F}}_{hex}}^T \\cdot {\\nabla \\mathbf{F}}_{hex} \\mathbf{J_T}$$\n",
    "\n",
    "The maximum eigenvalues of this C-G tensor $\\lambda_1$ gives the FTLE as follows\n",
    "\n",
    "$$FTLE = \\frac{1}{T}\\log (\\lambda_1)$$ where $T$ is the time period.\n",
    "\n",
    "In our examples, the troubling part is the fact that for the histogram (which is the un-normalised PDF) of the FTLE has a huge count at the smallest value. Upon looking closely, the reason for such a behavior is attributed to the fact the even though all $\\lambda_1$ values $\\leq 1$ are truncated (eliminating all $FTLE=0$, since $\\log(1) = 0$), there are many values of $\\lambda_1$ which are very close to 1. Ideally what we want is the rest of the figure except the first bin. The question now is what value should we pick to truncate $\\lambda_1$ numericallly and what decides that cutoff.\n",
    "\n",
    "## Relative Dispersion ##\n",
    "\n",
    "From LaCasce (2008), Keating et al. (2011) and Rypina et al. (2012) :\n",
    "\n",
    "Mean drift of the center of mass, in the x direction\n",
    "\n",
    "$$M_x(t) = \\frac{1}{N} \\sum_{i=1}^{N} \\left( x_i(t) - x_i(0)\\right)$$\n",
    "\n",
    "The spread about the center of mass is the variance of displacemets (second order moment), also called the dispersion $D_x(t)$\n",
    "\n",
    "$$D_x(t) = \\frac{1}{N-1} \\sum_{i=1}^{N} {\\left( x_i(t) - x_i(0) - M_x(t)\\right)}^2$$\n",
    "\n",
    "The Diffusivity is given as \n",
    "\n",
    "$$K_x(t) = \\frac{1}{2}\\frac{d}{dt}\\left(D_x(t)\\right)$$\n",
    "\n",
    "Using the above expressions for mean and variance, we can construct an analytic PDF for the dispersion as follows:\n",
    "\n",
    "$$Q_x = \\frac{1}{\\sqrt{2 \\pi D_x}} e^{\\frac{-\\left(x_i(t) - x_i(0) - M_x\\right)^{-2}}{2 D_x}}$$"
   ]
  },
  {
   "cell_type": "code",
   "execution_count": 2,
   "metadata": {
    "collapsed": true,
    "slideshow": {
     "slide_type": "slide"
    }
   },
   "outputs": [],
   "source": [
    "dir1 = '/data/scratch/as4479/llc_run_s_2/trajectories_fewer_fields.bcolz/'\n",
    "dir2 = '/data/scratch/as4479/llc_run_s_3/trajectories_fewer_fields.bcolz/'\n",
    "dir3 = '/data/scratch/as4479/llc_run_2d_weekly/trajectories_fewer_fields.bcolz/'\n",
    "dir4 = '/data/scratch/as4479/llc_run_3d_weekly/trajectories_fewer_fields.bcolz/'\n",
    "dir5 = '/data/scratch/as4479/llc_run_2d_daily/trajectories_fewer_fields.bcolz/'\n",
    "dir6 = '/data/scratch/as4479/llc_run_3d_daily/trajectories_fewer_fields.bcolz/'\n",
    "\n",
    "figdir = 'figures_abstract_AOFD/'\n",
    "\n",
    "#case = ['llc_run2_s_2','llc_run3_s2','llc_run_s_2','llc_run_s_3', 'llc_run3_s3']\n",
    "case = ['2d_hourly_unf','3d_hourly_unf','2d_weekly_filter','3d_weekly_filter','2d_daily_filter','3d_daily_filter',]\n",
    "cases = ['2d float, unfiltered','3d float, unfiltered','2d float, 1 week fiter',\n",
    "         '3d float, 1 week filter','2d float, 1 day fiter','2d float, 1 day fiter']\n",
    "\n",
    "floatset = FloatSet((-60.,-50.), (33.,40.5), dx = 0.02, dy = 0.015)\n",
    "\n",
    "bcolz_dir = [dir1, dir2, dir3, dir4, dir5, dir6]"
   ]
  },
  {
   "cell_type": "code",
   "execution_count": null,
   "metadata": {
    "collapsed": false,
    "scrolled": false,
    "slideshow": {
     "slide_type": "slide"
    }
   },
   "outputs": [],
   "source": [
    "for i in range(6):\n",
    "    lamb1, lamb2, mask = calc_l1_l2(bcolz_dir[i], floatset, calc_T_D=True)\n",
    "    M_x, M_y, D_x, D_y, K_x, K_y, deltax, deltay = rel_disp(bcolz_dir[i])\n",
    "    \n",
    "    FTLE = 28.**-1*np.log(lamb1)\n",
    "    FTLE = np.ma.masked_array(FTLE, mask)\n",
    "    FTLE_rav = np.ravel(FTLE)\n",
    "    \n",
    "    Q_x = (np.sqrt(2*np.pi*D_x.isel(time=-1)))**-1 * np.exp(-((deltax.isel(time=-1)-M_x.isel(time=-1))**2./(2*D_x.isel(time=-1))))\n",
    "    Q_y = (np.sqrt(2*np.pi*D_y.isel(time=-1)))**-1 * np.exp(-((deltay.isel(time=-1)-M_y.isel(time=-1))**2./(2*D_y.isel(time=-1))))\n",
    "    \n",
    "    fig = plt.figure(figsize=(15,20))\n",
    "    \n",
    "    plt.subplot(321)\n",
    "    plt.pcolormesh(FTLE, cmap='hot_r', rasterized=True);\n",
    "    plt.title(r'FTLE${[day]}^-1$ ', fontsize=13 )\n",
    "    #plt.clim([0.0,0.5])\n",
    "    plt.colorbar()\n",
    "    \n",
    "    plt.subplot(322)\n",
    "    plt.hist(FTLE_rav.compressed(), bins=100 );\n",
    "    plt.xlabel('FTLE')\n",
    "    #plt.ylabel('Count')\n",
    "    plt.title('FTLE histogram', fontsize = 13)\n",
    "    \n",
    "    plt.subplot(323)\n",
    "    D_x[0:].plot(label='D_x')\n",
    "    D_y[0:].plot(label='D_y')\n",
    "    plt.xlabel('time, $[seconds]$')\n",
    "    plt.title(r'Relative Dispersion, $D_{rel}$ , $[m^2]$', fontsize=13)\n",
    "    plt.ylabel(r'$D_{rel}$ , $[m^2]$', fontsize=13)\n",
    "    #plt.tick_params(left='off')\n",
    "    plt.legend(loc=0,fontsize='small')\n",
    "    \n",
    "    plt.subplot(324)\n",
    "    K_x[0:].plot(label='K_x')\n",
    "    K_y[0:].plot(label='K_y')\n",
    "    plt.xlabel('time, $[seconds]$')\n",
    "    plt.xscale('log')\n",
    "    plt.yscale('log')\n",
    "    plt.title(r'Relative Diffusivity, $K_{rel}$ $[m^2/s]$', fontsize=13)\n",
    "    #plt.ylabel(r'$K_{rel}$ $[m^2/s]$', fontsize=13)\n",
    "    plt.legend(loc=0,fontsize='small')\n",
    "\n",
    "    plt.subplot(325)\n",
    "    deltax.isel(time=-1).plot.hist(bins=100, normed=True);\n",
    "    plt.plot(deltax.isel(time=-1), Q_x, 'g+' ,label = 'PDF analytic')\n",
    "    plt.xlabel(r'$\\Delta x$', fontsize=13)\n",
    "    #plt.tick_params(left='off')\n",
    "\n",
    "    plt.title(r'$\\Delta x$ PDF')\n",
    "    \n",
    "    plt.subplot(326)\n",
    "    deltay.isel(time=-1).plot.hist(bins=100, normed=True);\n",
    "    plt.plot(deltay.isel(time=-1), Q_y, 'g+' ,label = 'PDF analytic')\n",
    "    plt.xlabel(r'$\\Delta y$', fontsize=13)\n",
    "    #plt.tick_params(left='off')\n",
    "    plt.title(r'$\\Delta y$ PDF')\n",
    "    \n",
    "    plt.legend(loc=0, fontsize='small')\n",
    "    \n",
    "    plt.suptitle('%s' %cases[i], fontsize = 16)\n",
    "    fig.savefig(figdir+'%s.pdf' %case[i])"
   ]
  },
  {
   "cell_type": "code",
   "execution_count": 63,
   "metadata": {
    "collapsed": false
   },
   "outputs": [
    {
     "data": {
      "text/plain": [
       "(-0.001, 0.001)"
      ]
     },
     "execution_count": 63,
     "metadata": {},
     "output_type": "execute_result"
    },
    {
     "data": {
      "image/png": "[encoded data removed]",
      "text/plain": [
       "<matplotlib.figure.Figure at 0x7f8f9a023710>"
      ]
     },
     "metadata": {},
     "output_type": "display_data"
    }
   ],
   "source": [
    "FTLE_rav = np.ravel(FTLE)\n",
    "plt.plot(FTLE_rav)\n",
    "plt.ylim([-0.001,0.001])"
   ]
  },
  {
   "cell_type": "code",
   "execution_count": 57,
   "metadata": {
    "collapsed": false,
    "slideshow": {
     "slide_type": "slide"
    }
   },
   "outputs": [],
   "source": [
    "\n",
    "M_x, M_y, D_x, D_y, K_x, K_y, deltax, deltay = rel_disp(bcolz_dir[i])\n",
    "X0, Y0, X1, Y1 = calc_flow_map(bcolz_dir[2], floatset) \n",
    "lamb1, lamb2, mask = calc_l1_l2(bcolz_dir[2], floatset, calc_T_D=True)\n",
    "FTLE = len(M_x)**-1*np.log(lamb1)\n",
    "FTLE = np.ma.masked_array(FTLE, mask)\n",
    "ftle = xr.DataArray(FTLE, coords = [X0[0],Y0[:,0]], dims=['x', 'y'])\n",
    "ftle.to_dataset(name = \"FTLE\").to_netcdf(path='/data/scratch/as4479/FTLE'+'%s.nc' %case[i], format='NETCDF4')"
   ]
  },
  {
   "cell_type": "code",
   "execution_count": 41,
   "metadata": {
    "collapsed": false,
    "slideshow": {
     "slide_type": "slide"
    }
   },
   "outputs": [],
   "source": [
    "ftle = xr.DataArray(FTLE, coords = [X0[0],Y0[:,0]], dims=['x', 'y'])"
   ]
  },
  {
   "cell_type": "code",
   "execution_count": 49,
   "metadata": {
    "collapsed": false,
    "slideshow": {
     "slide_type": "slide"
    }
   },
   "outputs": [],
   "source": [
    "ftle2 = ftle.to_dataset(name = \"FTLE\")"
   ]
  },
  {
   "cell_type": "code",
   "execution_count": 54,
   "metadata": {
    "collapsed": false,
    "slideshow": {
     "slide_type": "slide"
    }
   },
   "outputs": [],
   "source": [
    "ftle2.to_netcdf(path='/data/scratch/as4479/FTLE'+'%s.nc' %case[i], format='NETCDF4')"
   ]
  },
  {
   "cell_type": "code",
   "execution_count": 58,
   "metadata": {
    "collapsed": false,
    "slideshow": {
     "slide_type": "slide"
    }
   },
   "outputs": [
    {
     "data": {
      "text/plain": [
       "<xarray.DataArray (time: 25, npart: 250000)>\n",
       "array([[      0.        ,       0.        ,       0.        , ...,\n",
       "              0.        ,       0.        ,       0.        ],\n",
       "       [  66257.1640625 ,   65799.5703125 ,   65321.3828125 , ...,\n",
       "           5831.82958984,    5764.85351562,    5709.17480469],\n",
       "       [ 107470.671875  ,  105901.109375  ,  104329.6328125 , ...,\n",
       "          11574.61328125,   11594.28320312,   11594.66503906],\n",
       "       ..., \n",
       "       [ 115659.5390625 ,  100603.9609375 ,   83048.9140625 , ...,\n",
       "          67822.4765625 ,   66137.40625   ,   64452.33984375],\n",
       "       [ 125023.109375  ,  113556.        ,   93357.078125  , ...,\n",
       "          67822.4765625 ,   66137.40625   ,   64452.33984375],\n",
       "       [ 135717.203125  ,  122031.25      ,  104953.265625  , ...,\n",
       "          67822.4765625 ,   66137.40625   ,   64452.33984375]], dtype=float32)\n",
       "Coordinates:\n",
       "  * time     (time) float64 0.0 8.64e+04 1.728e+05 2.592e+05 3.456e+05 ...\n",
       "  * npart    (npart) float64 1.0 2.0 3.0 4.0 5.0 6.0 7.0 8.0 9.0 10.0 11.0 ..."
      ]
     },
     "execution_count": 58,
     "metadata": {},
     "output_type": "execute_result"
    }
   ],
   "source": [
    "deltax"
   ]
  },
  {
   "cell_type": "code",
   "execution_count": 61,
   "metadata": {
    "collapsed": false,
    "slideshow": {
     "slide_type": "slide"
    }
   },
   "outputs": [
    {
     "ename": "ValueError",
     "evalue": "conflicting sizes for dimension 'time': length 24 on 'K_y' and length 25 on 'deltax'",
     "output_type": "error",
     "traceback": [
      "\u001b[1;31m---------------------------------------------------------------------------\u001b[0m",
      "\u001b[1;31mValueError\u001b[0m                                Traceback (most recent call last)",
      "\u001b[1;32m<ipython-input-61-13787258cfaf>\u001b[0m in \u001b[0;36m<module>\u001b[1;34m()\u001b[0m\n\u001b[0;32m      6\u001b[0m                  \u001b[1;34m'K_y'\u001b[0m\u001b[1;33m:\u001b[0m \u001b[1;33m(\u001b[0m\u001b[1;33m[\u001b[0m\u001b[1;34m'time'\u001b[0m\u001b[1;33m]\u001b[0m\u001b[1;33m,\u001b[0m  \u001b[0mK_y\u001b[0m\u001b[1;33m)\u001b[0m\u001b[1;33m,\u001b[0m\u001b[1;33m\u001b[0m\u001b[0m\n\u001b[0;32m      7\u001b[0m                  \u001b[1;34m'M_x'\u001b[0m\u001b[1;33m:\u001b[0m \u001b[1;33m(\u001b[0m\u001b[1;33m[\u001b[0m\u001b[1;34m'time'\u001b[0m\u001b[1;33m]\u001b[0m\u001b[1;33m,\u001b[0m  \u001b[0mM_x\u001b[0m\u001b[1;33m)\u001b[0m\u001b[1;33m,\u001b[0m\u001b[1;33m\u001b[0m\u001b[0m\n\u001b[1;32m----> 8\u001b[1;33m                  'M_y': (['time'],  M_y)}\n\u001b[0m\u001b[0;32m      9\u001b[0m                )\n",
      "\u001b[1;32m/usr/local/anaconda/lib/python2.7/site-packages/xarray/core/dataset.pyc\u001b[0m in \u001b[0;36m__init__\u001b[1;34m(self, data_vars, coords, attrs, compat, **kwargs)\u001b[0m\n\u001b[0;32m    207\u001b[0m             \u001b[0mcoords\u001b[0m \u001b[1;33m=\u001b[0m \u001b[0mset\u001b[0m\u001b[1;33m(\u001b[0m\u001b[1;33m)\u001b[0m\u001b[1;33m\u001b[0m\u001b[0m\n\u001b[0;32m    208\u001b[0m         \u001b[1;32mif\u001b[0m \u001b[0mdata_vars\u001b[0m \u001b[1;32mis\u001b[0m \u001b[1;32mnot\u001b[0m \u001b[0mNone\u001b[0m \u001b[1;32mor\u001b[0m \u001b[0mcoords\u001b[0m \u001b[1;32mis\u001b[0m \u001b[1;32mnot\u001b[0m \u001b[0mNone\u001b[0m\u001b[1;33m:\u001b[0m\u001b[1;33m\u001b[0m\u001b[0m\n\u001b[1;32m--> 209\u001b[1;33m             \u001b[0mself\u001b[0m\u001b[1;33m.\u001b[0m\u001b[0m_set_init_vars_and_dims\u001b[0m\u001b[1;33m(\u001b[0m\u001b[0mdata_vars\u001b[0m\u001b[1;33m,\u001b[0m \u001b[0mcoords\u001b[0m\u001b[1;33m,\u001b[0m \u001b[0mcompat\u001b[0m\u001b[1;33m)\u001b[0m\u001b[1;33m\u001b[0m\u001b[0m\n\u001b[0m\u001b[0;32m    210\u001b[0m         \u001b[1;32mif\u001b[0m \u001b[0mattrs\u001b[0m \u001b[1;32mis\u001b[0m \u001b[1;32mnot\u001b[0m \u001b[0mNone\u001b[0m\u001b[1;33m:\u001b[0m\u001b[1;33m\u001b[0m\u001b[0m\n\u001b[0;32m    211\u001b[0m             \u001b[0mself\u001b[0m\u001b[1;33m.\u001b[0m\u001b[0mattrs\u001b[0m \u001b[1;33m=\u001b[0m \u001b[0mattrs\u001b[0m\u001b[1;33m\u001b[0m\u001b[0m\n",
      "\u001b[1;32m/usr/local/anaconda/lib/python2.7/site-packages/xarray/core/dataset.pyc\u001b[0m in \u001b[0;36m_set_init_vars_and_dims\u001b[1;34m(self, vars, coords, compat)\u001b[0m\n\u001b[0;32m    267\u001b[0m         \u001b[0mnew_coord_names\u001b[0m\u001b[1;33m.\u001b[0m\u001b[0mupdate\u001b[0m\u001b[1;33m(\u001b[0m\u001b[0mcoords\u001b[0m\u001b[1;33m)\u001b[0m\u001b[1;33m\u001b[0m\u001b[0m\n\u001b[0;32m    268\u001b[0m         self._update_vars_and_coords(new_variables, new_coord_names,\n\u001b[1;32m--> 269\u001b[1;33m                                      needs_copy=False, check_coord_names=False)\n\u001b[0m\u001b[0;32m    270\u001b[0m \u001b[1;33m\u001b[0m\u001b[0m\n\u001b[0;32m    271\u001b[0m     \u001b[1;33m@\u001b[0m\u001b[0mclassmethod\u001b[0m\u001b[1;33m\u001b[0m\u001b[0m\n",
      "\u001b[1;32m/usr/local/anaconda/lib/python2.7/site-packages/xarray/core/dataset.pyc\u001b[0m in \u001b[0;36m_update_vars_and_coords\u001b[1;34m(self, new_variables, new_coord_names, needs_copy, check_coord_names)\u001b[0m\n\u001b[0;32m    242\u001b[0m \u001b[1;33m\u001b[0m\u001b[0m\n\u001b[0;32m    243\u001b[0m         \u001b[0mvariables\u001b[0m\u001b[1;33m.\u001b[0m\u001b[0mupdate\u001b[0m\u001b[1;33m(\u001b[0m\u001b[0mnew_variables\u001b[0m\u001b[1;33m)\u001b[0m\u001b[1;33m\u001b[0m\u001b[0m\n\u001b[1;32m--> 244\u001b[1;33m         \u001b[0mdims\u001b[0m \u001b[1;33m=\u001b[0m \u001b[0m_calculate_dims\u001b[0m\u001b[1;33m(\u001b[0m\u001b[0mvariables\u001b[0m\u001b[1;33m)\u001b[0m\u001b[1;33m\u001b[0m\u001b[0m\n\u001b[0m\u001b[0;32m    245\u001b[0m         \u001b[1;31m# all checks are complete: it's safe to update\u001b[0m\u001b[1;33m\u001b[0m\u001b[1;33m\u001b[0m\u001b[0m\n\u001b[0;32m    246\u001b[0m         \u001b[0mself\u001b[0m\u001b[1;33m.\u001b[0m\u001b[0m_variables\u001b[0m \u001b[1;33m=\u001b[0m \u001b[0mvariables\u001b[0m\u001b[1;33m\u001b[0m\u001b[0m\n",
      "\u001b[1;32m/usr/local/anaconda/lib/python2.7/site-packages/xarray/core/dataset.pyc\u001b[0m in \u001b[0;36m_calculate_dims\u001b[1;34m(variables)\u001b[0m\n\u001b[0;32m     84\u001b[0m                 raise ValueError('conflicting sizes for dimension %r: '\n\u001b[0;32m     85\u001b[0m                                  \u001b[1;34m'length %s on %r and length %s on %r'\u001b[0m \u001b[1;33m%\u001b[0m\u001b[1;33m\u001b[0m\u001b[0m\n\u001b[1;32m---> 86\u001b[1;33m                                  (dim, size, k, dims[dim], last_used[dim]))\n\u001b[0m\u001b[0;32m     87\u001b[0m     \u001b[1;32mreturn\u001b[0m \u001b[0mdims\u001b[0m\u001b[1;33m\u001b[0m\u001b[0m\n\u001b[0;32m     88\u001b[0m \u001b[1;33m\u001b[0m\u001b[0m\n",
      "\u001b[1;31mValueError\u001b[0m: conflicting sizes for dimension 'time': length 24 on 'K_y' and length 25 on 'deltax'"
     ]
    }
   ],
   "source": [
    "ds = xr.Dataset({'deltax': (['time', 'npart'],  deltax),\n",
    "                  'deltay': (['time', 'npart'],  deltay)},\n",
    "                {'D_x': (['time'],  D_x),\n",
    "                 'D_y': (['time'],  D_y),\n",
    "                 'M_x': (['time'],  M_x),\n",
    "                 'M_y': (['time'],  M_y)}\n",
    "               )\n"
   ]
  },
  {
   "cell_type": "code",
   "execution_count": 60,
   "metadata": {
    "collapsed": false
   },
   "outputs": [
    {
     "data": {
      "text/plain": [
       "<xarray.Dataset>\n",
       "Dimensions:  (npart: 250000, time: 25)\n",
       "Coordinates:\n",
       "    D_x      (time) float32 0.0 2.52232e+08 9.78913e+08 2.08454e+09 ...\n",
       "    D_y      (time) float32 0.0 2.29969e+08 8.55614e+08 1.72926e+09 ...\n",
       "  * npart    (npart) int64 0 1 2 3 4 5 6 7 8 9 10 11 12 13 14 15 16 17 18 19 ...\n",
       "  * time     (time) int64 0 1 2 3 4 5 6 7 8 9 10 11 12 13 14 15 16 17 18 19 ...\n",
       "Data variables:\n",
       "    deltax   (time, npart) float32 0.0 0.0 0.0 0.0 0.0 0.0 0.0 0.0 0.0 0.0 ...\n",
       "    deltay   (time, npart) float32 0.0 0.0 0.0 0.0 0.0 0.0 0.0 0.0 0.0 0.0 ..."
      ]
     },
     "execution_count": 60,
     "metadata": {},
     "output_type": "execute_result"
    }
   ],
   "source": [
    "ds"
   ]
  },
  {
   "cell_type": "code",
   "execution_count": null,
   "metadata": {
    "collapsed": true
   },
   "outputs": [],
   "source": []
  }
 ],
 "metadata": {
  "kernelspec": {
   "display_name": "Python 2.7",
   "language": "python",
   "name": "python2"
  },
  "language_info": {
   "codemirror_mode": {
    "name": "ipython",
    "version": 2
   },
   "file_extension": ".py",
   "mimetype": "text/x-python",
   "name": "python",
   "nbconvert_exporter": "python",
   "pygments_lexer": "ipython2",
   "version": "2.7.11"
  }
 },
 "nbformat": 4,
 "nbformat_minor": 0
}
